{
  "nbformat": 4,
  "nbformat_minor": 0,
  "metadata": {
    "colab": {
      "name": "ML_A2_ASEML.ipynb",
      "provenance": [],
      "collapsed_sections": []
    },
    "kernelspec": {
      "name": "python3",
      "display_name": "Python 3"
    },
    "language_info": {
      "name": "python"
    },
    "accelerator": "GPU"
  },
  "cells": [
    {
      "cell_type": "code",
      "metadata": {
        "colab": {
          "base_uri": "https://localhost:8080/"
        },
        "id": "YfZ3OTm31Oi-",
        "outputId": "3fac39b4-e876-49bb-ad71-0938baec3d5c"
      },
      "source": [
        "import pandas as pd\n",
        "import numpy as np\n",
        "import tensorflow as tf\n",
        "\n",
        "from google.colab import drive\n",
        "drive.mount('/content/drive')"
      ],
      "execution_count": 2,
      "outputs": [
        {
          "output_type": "stream",
          "text": [
            "Drive already mounted at /content/drive; to attempt to forcibly remount, call drive.mount(\"/content/drive\", force_remount=True).\n"
          ],
          "name": "stdout"
        }
      ]
    },
    {
      "cell_type": "code",
      "metadata": {
        "colab": {
          "base_uri": "https://localhost:8080/",
          "height": 35
        },
        "id": "1THkMxXqw8Bd",
        "outputId": "13fff32b-bb96-4f87-8bfa-4bedd7309302"
      },
      "source": [
        "#Testing whether GPU is working or not\n",
        "import tensorflow as tf\n",
        "tf.test.gpu_device_name()"
      ],
      "execution_count": 3,
      "outputs": [
        {
          "output_type": "execute_result",
          "data": {
            "application/vnd.google.colaboratory.intrinsic+json": {
              "type": "string"
            },
            "text/plain": [
              "'/device:GPU:0'"
            ]
          },
          "metadata": {
            "tags": []
          },
          "execution_count": 3
        }
      ]
    },
    {
      "cell_type": "code",
      "metadata": {
        "colab": {
          "base_uri": "https://localhost:8080/"
        },
        "id": "NDhrOJvW2t6_",
        "outputId": "aacfa701-aac9-4165-f453-d3d916c99324"
      },
      "source": [
        "file = open('/content/drive/MyDrive/ML_A2_DATA/train.txt', 'r')\n",
        "data = []\n",
        "\n",
        "for l in file:\n",
        "  i = l.split()\n",
        "  data.append(i)\n",
        "\n",
        "data[0]"
      ],
      "execution_count": 4,
      "outputs": [
        {
          "output_type": "execute_result",
          "data": {
            "text/plain": [
              "['mr', 'hoagie', 'is', 'an', 'institution', '.']"
            ]
          },
          "metadata": {
            "tags": []
          },
          "execution_count": 4
        }
      ]
    },
    {
      "cell_type": "code",
      "metadata": {
        "colab": {
          "base_uri": "https://localhost:8080/"
        },
        "id": "iHMaXBzI67kb",
        "outputId": "9ccf183d-2fcb-4496-9184-dd04d04f94cd"
      },
      "source": [
        "type(data[0])"
      ],
      "execution_count": 4,
      "outputs": [
        {
          "output_type": "execute_result",
          "data": {
            "text/plain": [
              "list"
            ]
          },
          "metadata": {
            "tags": []
          },
          "execution_count": 4
        }
      ]
    },
    {
      "cell_type": "code",
      "metadata": {
        "id": "Mt7Cx9au38uN"
      },
      "source": [
        "class Vocabulary:\n",
        "    PAD_token = 0   # Used for padding short sentences\n",
        "    SOS_token = 1   # Start-of-sentence token\n",
        "    EOS_token = 2   # End-of-sentence token\n",
        "    OOV_token = 2   # Out-of-Vocabulary token\n",
        "\n",
        "    def __init__(self, name=\"\"):\n",
        "        self.name = name\n",
        "        self.word2index = {}\n",
        "        self.word2count = {}\n",
        "        self.index2word = {Vocabulary.PAD_token: \"PAD_Token\", Vocabulary.SOS_token: \"SOS_Token\", Vocabulary.EOS_token: \"EOS_Token\", Vocabulary.OOV_token: \"OOV_Token\"}\n",
        "        self.num_words = 4\n",
        "        self.num_sentences = 0\n",
        "        self.longest_sentence = 0\n",
        "\n",
        "    def add_word(self, word):\n",
        "        if word not in self.word2index:\n",
        "            # First entry of word into vocabulary\n",
        "            self.word2index[word] = self.num_words\n",
        "            self.word2count[word] = 1\n",
        "            self.index2word[self.num_words] = word\n",
        "            self.num_words += 1\n",
        "        else:\n",
        "            # Word exists; increase word count\n",
        "            self.word2count[word] += 1\n",
        "            \n",
        "    def add_sentence(self, sentence):\n",
        "        sentence_len = 0\n",
        "        for word in sentence:\n",
        "            sentence_len += 1\n",
        "            self.add_word(word)\n",
        "        if sentence_len > self.longest_sentence:\n",
        "            # This is the longest sentence\n",
        "            self.longest_sentence = sentence_len\n",
        "        # Count the number of sentences\n",
        "        self.num_sentences += 1\n",
        "\n",
        "    def to_word(self, index):\n",
        "        return self.index2word[index]\n",
        "\n",
        "    def to_index(self, word):\n",
        "        return self.word2index[word]\n",
        "\n"
      ],
      "execution_count": 5,
      "outputs": []
    },
    {
      "cell_type": "code",
      "metadata": {
        "id": "hrKH0VOG39lS"
      },
      "source": [
        "totalwords = []\n",
        "for i in data:\n",
        "  totalwords += i\n",
        "o = Vocabulary()\n",
        "o.add_sentence(totalwords)\n",
        "data_vocabulary = o.word2count"
      ],
      "execution_count": 6,
      "outputs": []
    },
    {
      "cell_type": "code",
      "metadata": {
        "id": "eq4wYdpZ4acE"
      },
      "source": [
        "import operator\n",
        "import itertools\n",
        "sorted_dict = dict(sorted(data_vocabulary.items(), key=operator.itemgetter(1), reverse=True))\n",
        "top_k = 1000\n",
        "top_k_dict = dict(itertools.islice(sorted_dict.items(), top_k))\n",
        "top_k_dict['PAD_Token'] = 0\n",
        "top_k_dict['SOS_Token'] = 0\n",
        "top_k_dict['EOS_Token'] = 0\n",
        "top_k_dict['OOV_Token'] = 0"
      ],
      "execution_count": 7,
      "outputs": []
    },
    {
      "cell_type": "code",
      "metadata": {
        "id": "1HGznuzA6uXG"
      },
      "source": [
        "index_dict = {'PAD_Token':0,'SOS_Token':1,'EOS_Token':2,'OOV_Token':3}\n",
        "j=4\n",
        "for i in sorted_dict:\n",
        "  index_dict[i] = j\n",
        "  j+=1"
      ],
      "execution_count": 8,
      "outputs": []
    },
    {
      "cell_type": "code",
      "metadata": {
        "id": "e1MQnSOs6wsm"
      },
      "source": [
        "vector_embedding = np.zeros((len(sorted_dict)+4 , len(top_k_dict)), dtype=\"int8\")\n",
        "for k,v in index_dict.items():\n",
        "  if k in top_k_dict:\n",
        "    vector_embedding[v][v]=1\n",
        "  else:\n",
        "    vector_embedding[v][index_dict['OOV_Token']] = 1"
      ],
      "execution_count": 9,
      "outputs": []
    },
    {
      "cell_type": "code",
      "metadata": {
        "id": "ZAXsmZK56zuG"
      },
      "source": [
        "import copy\n",
        "input_text = copy.deepcopy(data)\n",
        "output_text = copy.deepcopy(data)\n",
        "max_length = max([len(i) for i in data])\n",
        "\n",
        "\n",
        "\n",
        "for i in range(len(input_text)):\n",
        "  if max_length <= len(input_text[i]):\n",
        "    input_text[i] = input_text[i][0:max_length - 1]\n",
        "  input_text[i].append('EOS_Token')\n",
        "\n",
        "  output_text[i].insert(0,'SOS_Token')\n",
        "  if max_length <= len(output_text[i]):\n",
        "    output_text[i] = output_text[i][0:max_length - 1]\n",
        "  output_text[i].append('EOS_Token')"
      ],
      "execution_count": 10,
      "outputs": []
    },
    {
      "cell_type": "code",
      "metadata": {
        "colab": {
          "base_uri": "https://localhost:8080/"
        },
        "id": "EnaAf8-67dtF",
        "outputId": "4f9811ad-b9c7-4cf4-f1f3-24a22c12b569"
      },
      "source": [
        "print(data[0])\n",
        "print(input_text[0])\n",
        "print(output_text[0])"
      ],
      "execution_count": 11,
      "outputs": [
        {
          "output_type": "stream",
          "text": [
            "['mr', 'hoagie', 'is', 'an', 'institution', '.']\n",
            "['mr', 'hoagie', 'is', 'an', 'institution', '.', 'EOS_Token']\n",
            "['SOS_Token', 'mr', 'hoagie', 'is', 'an', 'institution', '.', 'EOS_Token']\n"
          ],
          "name": "stdout"
        }
      ]
    },
    {
      "cell_type": "code",
      "metadata": {
        "id": "WYXn3djb7eut"
      },
      "source": [
        "encoder_input_data=[]\n",
        "decoder_input_data=[]\n",
        "decoder_target_data = []\n",
        "\n",
        "for i in range(len(input_text)):\n",
        "  temp1 = []\n",
        "  count = 0\n",
        "  for j in input_text[i]:\n",
        "    if j in top_k_dict:\n",
        "      temp1.append(vector_embedding[index_dict[j]])\n",
        "    else:\n",
        "      j='OOV_Token'\n",
        "      temp1.append(vector_embedding[index_dict['OOV_Token']])\n",
        "    count+=1\n",
        "    if j=='EOS_Token' or count >= max_length:\n",
        "      break\n",
        "  while max_length - count != 0 :\n",
        "    temp1.append(vector_embedding[index_dict['PAD_Token']])\n",
        "    count+=1\n",
        "  encoder_input_data.append(temp1)\n",
        "\n",
        "  temp1 = []\n",
        "  count = 0\n",
        "  for j in output_text[i]:\n",
        "    if j in top_k_dict:\n",
        "      temp1.append(vector_embedding[index_dict[j]])\n",
        "    else:\n",
        "      j='OOV_Token'\n",
        "      temp1.append(vector_embedding[index_dict['OOV_Token']])\n",
        "    count+=1\n",
        "    if j=='EOS_Token' or count >= max_length:\n",
        "      break\n",
        "  while max_length - count != 0 :\n",
        "    temp1.append(vector_embedding[index_dict['PAD_Token']])\n",
        "    count+=1\n",
        "  decoder_input_data.append(temp1)\n",
        "\n",
        "for i in output_text:\n",
        "  i.pop(0)\n",
        "\n",
        "\n",
        "\n",
        "for i in range(len(output_text)):\n",
        "  temp1 = []\n",
        "  count = 0\n",
        "  for j in output_text[i]:\n",
        "    if j in top_k_dict:\n",
        "      temp1.append(vector_embedding[index_dict[j]])\n",
        "    else:\n",
        "      j='OOV_Token'\n",
        "      temp1.append(vector_embedding[index_dict['OOV_Token']])\n",
        "    count+=1\n",
        "    if j=='EOS_Token' or count >= max_length:\n",
        "      break\n",
        "  while max_length - count != 0 :\n",
        "    temp1.append(vector_embedding[index_dict['PAD_Token']])\n",
        "    count+=1\n",
        "  decoder_target_data.append(temp1)\n",
        "\n",
        "encoder_input_data = np.array(encoder_input_data)\n",
        "decoder_input_data = np.array(decoder_input_data)\n",
        "decoder_target_data = np.array(decoder_target_data)"
      ],
      "execution_count": 12,
      "outputs": []
    },
    {
      "cell_type": "code",
      "metadata": {
        "colab": {
          "base_uri": "https://localhost:8080/"
        },
        "id": "xZ-XHh3S8P44",
        "outputId": "babeb6e9-0fb3-4841-de32-4804ae04fd2d"
      },
      "source": [
        "print(encoder_input_data.shape)\n",
        "print(decoder_input_data.shape)\n",
        "print(decoder_input_data.shape)"
      ],
      "execution_count": 13,
      "outputs": [
        {
          "output_type": "stream",
          "text": [
            "(200000, 15, 1004)\n",
            "(200000, 15, 1004)\n",
            "(200000, 15, 1004)\n"
          ],
          "name": "stdout"
        }
      ]
    },
    {
      "cell_type": "markdown",
      "metadata": {
        "id": "GO_tWPv4dMH4"
      },
      "source": [
        "# **Uploading the validation data**"
      ]
    },
    {
      "cell_type": "code",
      "metadata": {
        "colab": {
          "base_uri": "https://localhost:8080/"
        },
        "id": "YWVBo-VAdP5d",
        "outputId": "b4e44602-8997-4449-f126-2e7d078f9acf"
      },
      "source": [
        "file = open('/content/drive/MyDrive/ML_A2_DATA/valid.txt', 'r')\n",
        "valid_data = []\n",
        "\n",
        "for l in file:\n",
        "  i = l.split()\n",
        "  valid_data.append(i)\n",
        "\n",
        "import copy\n",
        "input_text = copy.deepcopy(valid_data)\n",
        "output_text = copy.deepcopy(valid_data)\n",
        "max_length = max([len(i) for i in valid_data])\n",
        "print(max_length , \"maximum length for validation data\")\n",
        "\n",
        "\n",
        "for i in range(len(input_text)):\n",
        "  if max_length <= len(input_text[i]):\n",
        "    input_text[i] = input_text[i][0:max_length - 1]\n",
        "  input_text[i].append('EOS_Token')\n",
        "\n",
        "  output_text[i].insert(0,'SOS_Token')\n",
        "  if max_length <= len(output_text[i]):\n",
        "    output_text[i] = output_text[i][0:max_length - 1]\n",
        "  output_text[i].append('EOS_Token')\n",
        "\n",
        "valid_encoder_input_data=[]\n",
        "valid_decoder_input_data=[]\n",
        "valid_decoder_target_data = []\n",
        "\n",
        "for i in range(len(input_text)):\n",
        "  temp1 = []\n",
        "  count = 0\n",
        "  for j in input_text[i]:\n",
        "    if j in top_k_dict:\n",
        "      temp1.append(vector_embedding[index_dict[j]])\n",
        "    else:\n",
        "      j='OOV_Token'\n",
        "      temp1.append(vector_embedding[index_dict['OOV_Token']])\n",
        "    count+=1\n",
        "    if j=='EOS_Token' or count >= max_length:\n",
        "      break\n",
        "  while max_length - count != 0 :\n",
        "    temp1.append(vector_embedding[index_dict['PAD_Token']])\n",
        "    count+=1\n",
        "  valid_encoder_input_data.append(temp1)\n",
        "\n",
        "  temp1 = []\n",
        "  count = 0\n",
        "  for j in output_text[i]:\n",
        "    if j in top_k_dict:\n",
        "      temp1.append(vector_embedding[index_dict[j]])\n",
        "    else:\n",
        "      j='OOV_Token'\n",
        "      temp1.append(vector_embedding[index_dict['OOV_Token']])\n",
        "    count+=1\n",
        "    if j=='EOS_Token' or count >= max_length:\n",
        "      break\n",
        "  while max_length - count != 0 :\n",
        "    temp1.append(vector_embedding[index_dict['PAD_Token']])\n",
        "    count+=1\n",
        "  valid_decoder_input_data.append(temp1)\n",
        "\n",
        "for i in output_text:\n",
        "  i.pop(0)\n",
        "\n",
        "\n",
        "\n",
        "for i in range(len(output_text)):\n",
        "  temp1 = []\n",
        "  count = 0\n",
        "  for j in output_text[i]:\n",
        "    if j in top_k_dict:\n",
        "      temp1.append(vector_embedding[index_dict[j]])\n",
        "    else:\n",
        "      j='OOV_Token'\n",
        "      temp1.append(vector_embedding[index_dict['OOV_Token']])\n",
        "    count+=1\n",
        "    if j=='EOS_Token' or count >= max_length:\n",
        "      break\n",
        "  while max_length - count != 0 :\n",
        "    temp1.append(vector_embedding[index_dict['PAD_Token']])\n",
        "    count+=1\n",
        "  valid_decoder_target_data.append(temp1)\n",
        "\n",
        "valid_encoder_input_data = np.array(valid_encoder_input_data)\n",
        "valid_decoder_input_data = np.array(valid_decoder_input_data)\n",
        "valid_decoder_target_data = np.array(valid_decoder_target_data)\n",
        "\n",
        "print(valid_encoder_input_data.shape)\n",
        "print(valid_decoder_input_data.shape)\n",
        "print(valid_decoder_input_data.shape)"
      ],
      "execution_count": 14,
      "outputs": [
        {
          "output_type": "stream",
          "text": [
            "15 maximum length for validation data\n",
            "(10000, 15, 1004)\n",
            "(10000, 15, 1004)\n",
            "(10000, 15, 1004)\n"
          ],
          "name": "stdout"
        }
      ]
    },
    {
      "cell_type": "markdown",
      "metadata": {
        "id": "xVtr2ODJGYLi"
      },
      "source": [
        "# **Bidirectional Model**"
      ]
    },
    {
      "cell_type": "code",
      "metadata": {
        "id": "5lAvPcApGbL_"
      },
      "source": [
        "batch_size = 64\n",
        "\n",
        "latent_dim = 100\n",
        "initial_dim = 50\n",
        "unique_tokens = len(top_k_dict)\n",
        "\n",
        "from keras.models import Model\n",
        "from keras.layers import Input, LSTM, Dense, Bidirectional , Concatenate\n",
        "\n",
        "encoder_inputs = Input(shape=(None, unique_tokens))\n",
        "encoder = Bidirectional(LSTM(initial_dim, return_state=True))\n",
        "encoder_outputs, forward_h, forward_c, backward_h, backward_c = encoder(encoder_inputs)\n",
        "state_h = Concatenate()([forward_h, backward_h])\n",
        "state_c = Concatenate()([forward_c, backward_c])\n",
        "encoder_states = [state_h, state_c]\n",
        "\n",
        "decoder_inputs = Input(shape=(None, unique_tokens))\n",
        "decoder_lstm = LSTM(latent_dim, return_sequences=True, return_state=True)\n",
        "decoder_outputs, _, _ = decoder_lstm(decoder_inputs,\n",
        "                                     initial_state=encoder_states)\n",
        "decoder_dense = Dense(unique_tokens, activation='softmax')\n",
        "decoder_outputs = decoder_dense(decoder_outputs)\n",
        "\n",
        "\n",
        "model = Model([encoder_inputs, decoder_inputs], decoder_outputs)"
      ],
      "execution_count": 15,
      "outputs": []
    },
    {
      "cell_type": "code",
      "metadata": {
        "colab": {
          "base_uri": "https://localhost:8080/"
        },
        "id": "7u1WbOjRYsQx",
        "outputId": "9e18e497-2ebb-478e-eca3-acedad300eb9"
      },
      "source": [
        "batch_size = 64\n",
        "epochs = 50\n",
        "\n",
        "model.compile(\n",
        "    optimizer=\"rmsprop\", loss=\"categorical_crossentropy\", metrics=[\"accuracy\"]\n",
        ")\n",
        "model_data = model.fit([encoder_input_data, decoder_input_data], decoder_target_data,\n",
        "          batch_size=batch_size,\n",
        "          epochs=epochs,\n",
        "          validation_data = ([valid_encoder_input_data, valid_decoder_input_data], valid_decoder_target_data), verbose = 1)"
      ],
      "execution_count": null,
      "outputs": [
        {
          "output_type": "stream",
          "text": [
            "Epoch 1/50\n",
            "3125/3125 [==============================] - 57s 11ms/step - loss: 2.8055 - accuracy: 0.5185 - val_loss: 1.5912 - val_accuracy: 0.7083\n",
            "Epoch 2/50\n",
            "3125/3125 [==============================] - 32s 10ms/step - loss: 1.4162 - accuracy: 0.7390 - val_loss: 0.9471 - val_accuracy: 0.8191\n",
            "Epoch 3/50\n",
            "3125/3125 [==============================] - 32s 10ms/step - loss: 0.8564 - accuracy: 0.8338 - val_loss: 0.6083 - val_accuracy: 0.8770\n",
            "Epoch 4/50\n",
            "3125/3125 [==============================] - 32s 10ms/step - loss: 0.5619 - accuracy: 0.8857 - val_loss: 0.4120 - val_accuracy: 0.9151\n",
            "Epoch 5/50\n",
            "3125/3125 [==============================] - 31s 10ms/step - loss: 0.3835 - accuracy: 0.9193 - val_loss: 0.2913 - val_accuracy: 0.9380\n",
            "Epoch 6/50\n",
            "3125/3125 [==============================] - 32s 10ms/step - loss: 0.2729 - accuracy: 0.9415 - val_loss: 0.2297 - val_accuracy: 0.9514\n",
            "Epoch 7/50\n",
            "3125/3125 [==============================] - 32s 10ms/step - loss: 0.2022 - accuracy: 0.9570 - val_loss: 0.1807 - val_accuracy: 0.9609\n",
            "Epoch 8/50\n",
            "3125/3125 [==============================] - 31s 10ms/step - loss: 0.1574 - accuracy: 0.9670 - val_loss: 0.1547 - val_accuracy: 0.9659\n",
            "Epoch 9/50\n",
            "3125/3125 [==============================] - 31s 10ms/step - loss: 0.1273 - accuracy: 0.9739 - val_loss: 0.1208 - val_accuracy: 0.9740\n",
            "Epoch 10/50\n",
            "3125/3125 [==============================] - 31s 10ms/step - loss: 0.1042 - accuracy: 0.9790 - val_loss: 0.1126 - val_accuracy: 0.9741\n",
            "Epoch 11/50\n",
            "3125/3125 [==============================] - 31s 10ms/step - loss: 0.0865 - accuracy: 0.9827 - val_loss: 0.0935 - val_accuracy: 0.9801\n",
            "Epoch 12/50\n",
            "3125/3125 [==============================] - 31s 10ms/step - loss: 0.0754 - accuracy: 0.9851 - val_loss: 0.0885 - val_accuracy: 0.9804\n",
            "Epoch 13/50\n",
            "3125/3125 [==============================] - 31s 10ms/step - loss: 0.0680 - accuracy: 0.9868 - val_loss: 0.0819 - val_accuracy: 0.9813\n",
            "Epoch 14/50\n",
            "3125/3125 [==============================] - 31s 10ms/step - loss: 0.0613 - accuracy: 0.9884 - val_loss: 0.0755 - val_accuracy: 0.9833\n",
            "Epoch 15/50\n",
            "3125/3125 [==============================] - 31s 10ms/step - loss: 0.0553 - accuracy: 0.9898 - val_loss: 0.0710 - val_accuracy: 0.9844\n",
            "Epoch 16/50\n",
            "3125/3125 [==============================] - 31s 10ms/step - loss: 0.0510 - accuracy: 0.9906 - val_loss: 0.0633 - val_accuracy: 0.9857\n",
            "Epoch 17/50\n",
            "3125/3125 [==============================] - 31s 10ms/step - loss: 0.0465 - accuracy: 0.9915 - val_loss: 0.0651 - val_accuracy: 0.9851\n",
            "Epoch 18/50\n",
            "3125/3125 [==============================] - 31s 10ms/step - loss: 0.0427 - accuracy: 0.9923 - val_loss: 0.0567 - val_accuracy: 0.9869\n",
            "Epoch 19/50\n",
            "3125/3125 [==============================] - 31s 10ms/step - loss: 0.0394 - accuracy: 0.9929 - val_loss: 0.0526 - val_accuracy: 0.9885\n",
            "Epoch 20/50\n",
            "3125/3125 [==============================] - 31s 10ms/step - loss: 0.0371 - accuracy: 0.9934 - val_loss: 0.0553 - val_accuracy: 0.9871\n",
            "Epoch 21/50\n",
            "3125/3125 [==============================] - 31s 10ms/step - loss: 0.0351 - accuracy: 0.9937 - val_loss: 0.0503 - val_accuracy: 0.9891\n",
            "Epoch 22/50\n",
            "3125/3125 [==============================] - 31s 10ms/step - loss: 0.0332 - accuracy: 0.9943 - val_loss: 0.0464 - val_accuracy: 0.9897\n",
            "Epoch 23/50\n",
            "3125/3125 [==============================] - 31s 10ms/step - loss: 0.0315 - accuracy: 0.9947 - val_loss: 0.0471 - val_accuracy: 0.9894\n",
            "Epoch 24/50\n",
            "3125/3125 [==============================] - 31s 10ms/step - loss: 0.0300 - accuracy: 0.9949 - val_loss: 0.0452 - val_accuracy: 0.9897\n",
            "Epoch 25/50\n",
            "3125/3125 [==============================] - 31s 10ms/step - loss: 0.0282 - accuracy: 0.9954 - val_loss: 0.0441 - val_accuracy: 0.9901\n",
            "Epoch 26/50\n",
            "3125/3125 [==============================] - 31s 10ms/step - loss: 0.0271 - accuracy: 0.9955 - val_loss: 0.0463 - val_accuracy: 0.9901\n",
            "Epoch 27/50\n",
            "3125/3125 [==============================] - 31s 10ms/step - loss: 0.0262 - accuracy: 0.9956 - val_loss: 0.0405 - val_accuracy: 0.9908\n",
            "Epoch 28/50\n",
            "3125/3125 [==============================] - 31s 10ms/step - loss: 0.0249 - accuracy: 0.9960 - val_loss: 0.0443 - val_accuracy: 0.9901\n",
            "Epoch 29/50\n",
            "3125/3125 [==============================] - 31s 10ms/step - loss: 0.0238 - accuracy: 0.9962 - val_loss: 0.0406 - val_accuracy: 0.9907\n",
            "Epoch 30/50\n",
            "3125/3125 [==============================] - 31s 10ms/step - loss: 0.0226 - accuracy: 0.9964 - val_loss: 0.0405 - val_accuracy: 0.9908\n",
            "Epoch 31/50\n",
            "3125/3125 [==============================] - 31s 10ms/step - loss: 0.0219 - accuracy: 0.9965 - val_loss: 0.0416 - val_accuracy: 0.9900\n",
            "Epoch 32/50\n",
            "3125/3125 [==============================] - 31s 10ms/step - loss: 0.0212 - accuracy: 0.9967 - val_loss: 0.0386 - val_accuracy: 0.9911\n",
            "Epoch 33/50\n",
            "3125/3125 [==============================] - 31s 10ms/step - loss: 0.0204 - accuracy: 0.9968 - val_loss: 0.0412 - val_accuracy: 0.9901\n",
            "Epoch 34/50\n",
            "3125/3125 [==============================] - 31s 10ms/step - loss: 0.0200 - accuracy: 0.9969 - val_loss: 0.0384 - val_accuracy: 0.9908\n",
            "Epoch 35/50\n",
            "3125/3125 [==============================] - 31s 10ms/step - loss: 0.0194 - accuracy: 0.9970 - val_loss: 0.0398 - val_accuracy: 0.9905\n",
            "Epoch 36/50\n",
            "3125/3125 [==============================] - 31s 10ms/step - loss: 0.0186 - accuracy: 0.9972 - val_loss: 0.0357 - val_accuracy: 0.9914\n",
            "Epoch 37/50\n",
            "3125/3125 [==============================] - 30s 10ms/step - loss: 0.0181 - accuracy: 0.9973 - val_loss: 0.0360 - val_accuracy: 0.9917\n",
            "Epoch 38/50\n",
            "3125/3125 [==============================] - 31s 10ms/step - loss: 0.0177 - accuracy: 0.9974 - val_loss: 0.0353 - val_accuracy: 0.9915\n",
            "Epoch 39/50\n",
            "3125/3125 [==============================] - 31s 10ms/step - loss: 0.0171 - accuracy: 0.9975 - val_loss: 0.0361 - val_accuracy: 0.9914\n",
            "Epoch 40/50\n",
            "3125/3125 [==============================] - 30s 10ms/step - loss: 0.0165 - accuracy: 0.9976 - val_loss: 0.0353 - val_accuracy: 0.9916\n",
            "Epoch 41/50\n",
            "3125/3125 [==============================] - 30s 10ms/step - loss: 0.0165 - accuracy: 0.9976 - val_loss: 0.0339 - val_accuracy: 0.9921\n",
            "Epoch 42/50\n",
            "3125/3125 [==============================] - 30s 10ms/step - loss: 0.0158 - accuracy: 0.9977 - val_loss: 0.0334 - val_accuracy: 0.9918\n",
            "Epoch 43/50\n",
            "3125/3125 [==============================] - 30s 10ms/step - loss: 0.0154 - accuracy: 0.9978 - val_loss: 0.0333 - val_accuracy: 0.9919\n",
            "Epoch 44/50\n",
            "3125/3125 [==============================] - 31s 10ms/step - loss: 0.0148 - accuracy: 0.9979 - val_loss: 0.0325 - val_accuracy: 0.9922\n",
            "Epoch 45/50\n",
            "3125/3125 [==============================] - 31s 10ms/step - loss: 0.0146 - accuracy: 0.9979 - val_loss: 0.0316 - val_accuracy: 0.9924\n",
            "Epoch 46/50\n",
            "3125/3125 [==============================] - 31s 10ms/step - loss: 0.0142 - accuracy: 0.9980 - val_loss: 0.0329 - val_accuracy: 0.9920\n",
            "Epoch 47/50\n",
            "3125/3125 [==============================] - 31s 10ms/step - loss: 0.0140 - accuracy: 0.9980 - val_loss: 0.0325 - val_accuracy: 0.9921\n",
            "Epoch 48/50\n",
            "3125/3125 [==============================] - 31s 10ms/step - loss: 0.0137 - accuracy: 0.9981 - val_loss: 0.0338 - val_accuracy: 0.9917\n",
            "Epoch 49/50\n",
            "3125/3125 [==============================] - 31s 10ms/step - loss: 0.0133 - accuracy: 0.9981 - val_loss: 0.0317 - val_accuracy: 0.9925\n",
            "Epoch 50/50\n",
            "3125/3125 [==============================] - 31s 10ms/step - loss: 0.0129 - accuracy: 0.9982 - val_loss: 0.0319 - val_accuracy: 0.9919\n"
          ],
          "name": "stdout"
        }
      ]
    },
    {
      "cell_type": "code",
      "metadata": {
        "colab": {
          "base_uri": "https://localhost:8080/"
        },
        "id": "Gb43ezqY3mYt",
        "outputId": "8204a6d1-1506-4c3b-efc1-9cd5f61ed62b"
      },
      "source": [
        "model.summary()"
      ],
      "execution_count": 17,
      "outputs": [
        {
          "output_type": "stream",
          "text": [
            "Model: \"model\"\n",
            "__________________________________________________________________________________________________\n",
            "Layer (type)                    Output Shape         Param #     Connected to                     \n",
            "==================================================================================================\n",
            "input_1 (InputLayer)            [(None, None, 1004)] 0                                            \n",
            "__________________________________________________________________________________________________\n",
            "bidirectional (Bidirectional)   [(None, 100), (None, 422000      input_1[0][0]                    \n",
            "__________________________________________________________________________________________________\n",
            "input_2 (InputLayer)            [(None, None, 1004)] 0                                            \n",
            "__________________________________________________________________________________________________\n",
            "concatenate (Concatenate)       (None, 100)          0           bidirectional[0][1]              \n",
            "                                                                 bidirectional[0][3]              \n",
            "__________________________________________________________________________________________________\n",
            "concatenate_1 (Concatenate)     (None, 100)          0           bidirectional[0][2]              \n",
            "                                                                 bidirectional[0][4]              \n",
            "__________________________________________________________________________________________________\n",
            "lstm_1 (LSTM)                   [(None, None, 100),  442000      input_2[0][0]                    \n",
            "                                                                 concatenate[0][0]                \n",
            "                                                                 concatenate_1[0][0]              \n",
            "__________________________________________________________________________________________________\n",
            "dense (Dense)                   (None, None, 1004)   101404      lstm_1[0][0]                     \n",
            "==================================================================================================\n",
            "Total params: 965,404\n",
            "Trainable params: 965,404\n",
            "Non-trainable params: 0\n",
            "__________________________________________________________________________________________________\n"
          ],
          "name": "stdout"
        }
      ]
    },
    {
      "cell_type": "code",
      "metadata": {
        "id": "OFULt5lfHfSB"
      },
      "source": [
        "import keras\n",
        "\n",
        "encoder_model = keras.Model(encoder_inputs, encoder_states)\n",
        "\n",
        "\n",
        "decoder_state_input_h = keras.Input(shape=(latent_dim ,), name=\"input_8\")\n",
        "decoder_state_input_c = keras.Input(shape=(latent_dim ,), name=\"input_9\")\n",
        "decoder_states_inputs = [decoder_state_input_h, decoder_state_input_c]\n",
        "decoder_outputs, state_h_dec, state_c_dec = decoder_lstm(\n",
        "    decoder_inputs, initial_state=decoder_states_inputs\n",
        ")\n",
        "decoder_states = [state_h_dec, state_c_dec]\n",
        "decoder_outputs = decoder_dense(decoder_outputs)\n",
        "decoder_model = keras.Model(\n",
        "    [decoder_inputs] + decoder_states_inputs, [decoder_outputs] + decoder_states\n",
        ")\n",
        "\n",
        "# Reverse-lookup token index to decode sequences back to\n",
        "# something readable.\n",
        "reverse_input_token_index = dict((i, token) for token, i in index_dict.items())\n",
        "reverse_target_token_index = dict((i, token) for token, i in index_dict.items())\n",
        "\n",
        "\n",
        "def decode_sequence(input_seq):\n",
        "    # Encode the input as state vectors.\n",
        "    states_value = encoder_model.predict(input_seq)\n",
        "    # print(states_value)\n",
        "    # Generate empty target sequence of length 1.\n",
        "    target_seq = np.zeros((1, 1, unique_tokens))\n",
        "    # Populate the first token of target sequence with the start token.\n",
        "    target_seq[0, 0, index_dict['SOS_Token']] = 1.0\n",
        "\n",
        "    \n",
        "    stop_condition = False\n",
        "    decoded_sentence = \"\"\n",
        "    \n",
        "    while not stop_condition:\n",
        "        output_tokens, h, c = decoder_model.predict([target_seq] + states_value)\n",
        "\n",
        "        # Sample a token\n",
        "        sampled_token_index = np.argmax(output_tokens[0, -1, :])\n",
        "        sampled_token = reverse_target_token_index[sampled_token_index]\n",
        "        decoded_sentence += sampled_token\n",
        "        decoded_sentence += \" \"\n",
        "        \n",
        "        if sampled_token == 'EOS_Token' or len(decoded_sentence) >= max_length - 1:  # previously > max_length\n",
        "            stop_condition = True\n",
        "\n",
        "        \n",
        "        target_seq = np.zeros((1, 1, unique_tokens))\n",
        "        target_seq[0, 0, sampled_token_index] = 1.0\n",
        "\n",
        "        \n",
        "        states_value = [h, c]\n",
        "    return decoded_sentence"
      ],
      "execution_count": 18,
      "outputs": []
    },
    {
      "cell_type": "markdown",
      "metadata": {
        "id": "1eUAOcolbyyl"
      },
      "source": [
        "# **Part - a - Plot the validation loss per epoch.**"
      ]
    },
    {
      "cell_type": "code",
      "metadata": {
        "colab": {
          "base_uri": "https://localhost:8080/",
          "height": 279
        },
        "id": "ndspr0puY2ZV",
        "outputId": "140fed3a-a1c0-490c-f265-0480f8a85545"
      },
      "source": [
        "from matplotlib import pyplot as plt\n",
        "\n",
        "validation_loss = model_data.history['val_loss']\n",
        "indices = range(epochs)\n",
        "plt.plot(indices, validation_loss)\n",
        "plt.xlabel('Number of epochs')\n",
        "plt.ylabel('Validation loss')\n",
        "plt.show()"
      ],
      "execution_count": null,
      "outputs": [
        {
          "output_type": "display_data",
          "data": {
            "image/png": "[encoded data removed]",
            "text/plain": [
              "<Figure size 432x288 with 1 Axes>"
            ]
          },
          "metadata": {
            "tags": [],
            "needs_background": "light"
          }
        }
      ]
    },
    {
      "cell_type": "markdown",
      "metadata": {
        "id": "T3xx5kOXa3nZ"
      },
      "source": [
        "# **Part - b - Reconstruction Loss on test data**"
      ]
    },
    {
      "cell_type": "markdown",
      "metadata": {
        "id": "PNqlLK79oYBG"
      },
      "source": [
        "# **Uploading the test data**"
      ]
    },
    {
      "cell_type": "code",
      "metadata": {
        "colab": {
          "base_uri": "https://localhost:8080/"
        },
        "id": "eHFtW7m2obqD",
        "outputId": "509ec111-3393-449e-b27c-2054afbdb3fe"
      },
      "source": [
        "file = open('/content/drive/MyDrive/ML_A2_DATA/test.txt', 'r')\n",
        "test_data = []\n",
        "\n",
        "for l in file:\n",
        "  i = l.split()\n",
        "  test_data.append(i)\n",
        "\n",
        "import copy\n",
        "input_text = copy.deepcopy(test_data)\n",
        "output_text = copy.deepcopy(test_data)\n",
        "max_length = max([len(i) for i in test_data])\n",
        "print(max_length , \"maximum length for test data\")\n",
        "\n",
        "\n",
        "for i in range(len(input_text)):\n",
        "  if max_length <= len(input_text[i]):\n",
        "    input_text[i] = input_text[i][0:max_length - 1]\n",
        "  input_text[i].append('EOS_Token')\n",
        "\n",
        "  output_text[i].insert(0,'SOS_Token')\n",
        "  if max_length <= len(output_text[i]):\n",
        "    output_text[i] = output_text[i][0:max_length - 1]\n",
        "  output_text[i].append('EOS_Token')\n",
        "\n",
        "test_encoder_input_data=[]\n",
        "test_decoder_input_data=[]\n",
        "test_decoder_target_data=[]\n",
        "\n",
        "for i in range(len(input_text)):\n",
        "  temp1 = []\n",
        "  count = 0\n",
        "  for j in input_text[i]:\n",
        "    if j in top_k_dict:\n",
        "      temp1.append(vector_embedding[index_dict[j]])\n",
        "    else:\n",
        "      j='OOV_Token'\n",
        "      temp1.append(vector_embedding[index_dict['OOV_Token']])\n",
        "    count+=1\n",
        "    if j=='EOS_Token' or count >= max_length:\n",
        "      break\n",
        "  while max_length - count != 0 :\n",
        "    temp1.append(vector_embedding[index_dict['PAD_Token']])\n",
        "    count+=1\n",
        "  test_encoder_input_data.append(temp1)\n",
        "\n",
        "  temp1 = []\n",
        "  count = 0\n",
        "  for j in output_text[i]:\n",
        "    if j in top_k_dict:\n",
        "      temp1.append(vector_embedding[index_dict[j]])\n",
        "    else:\n",
        "      j='OOV_Token'\n",
        "      temp1.append(vector_embedding[index_dict['OOV_Token']])\n",
        "    count+=1\n",
        "    if j=='EOS_Token' or count >= max_length:\n",
        "      break\n",
        "  while max_length - count != 0 :\n",
        "    temp1.append(vector_embedding[index_dict['PAD_Token']])\n",
        "    count+=1\n",
        "  test_decoder_input_data.append(temp1)\n",
        "\n",
        "for i in output_text:\n",
        "  i.pop(0)\n",
        "\n",
        "\n",
        "\n",
        "for i in range(len(output_text)):\n",
        "  temp1 = []\n",
        "  count = 0\n",
        "  for j in output_text[i]:\n",
        "    if j in top_k_dict:\n",
        "      temp1.append(vector_embedding[index_dict[j]])\n",
        "    else:\n",
        "      j='OOV_Token'\n",
        "      temp1.append(vector_embedding[index_dict['OOV_Token']])\n",
        "    count+=1\n",
        "    if j=='EOS_Token' or count >= max_length:\n",
        "      break\n",
        "  while max_length - count != 0 :\n",
        "    temp1.append(vector_embedding[index_dict['PAD_Token']])\n",
        "    count+=1\n",
        "  test_decoder_target_data.append(temp1)\n",
        "\n",
        "test_encoder_input_data = np.array(test_encoder_input_data)\n",
        "test_decoder_input_data = np.array(test_decoder_input_data)\n",
        "test_decoder_target_data = np.array(test_decoder_target_data)\n",
        "\n",
        "print(test_encoder_input_data.shape)\n",
        "print(test_decoder_input_data.shape)\n",
        "print(test_decoder_input_data.shape)"
      ],
      "execution_count": 20,
      "outputs": [
        {
          "output_type": "stream",
          "text": [
            "15 maximum length for test data\n",
            "(10000, 15, 1004)\n",
            "(10000, 15, 1004)\n",
            "(10000, 15, 1004)\n"
          ],
          "name": "stdout"
        }
      ]
    },
    {
      "cell_type": "code",
      "metadata": {
        "id": "vhQlJKZcaFfo",
        "colab": {
          "base_uri": "https://localhost:8080/"
        },
        "outputId": "404f3348-5b85-4ce6-9839-676b4450812f"
      },
      "source": [
        "values = model.evaluate([test_encoder_input_data, test_decoder_input_data], test_decoder_target_data)\n",
        "print(\"Reconstruction Loss = \", values[0])"
      ],
      "execution_count": null,
      "outputs": [
        {
          "output_type": "stream",
          "text": [
            "313/313 [==============================] - 2s 6ms/step - loss: 0.0318 - accuracy: 0.9921\n",
            "Reconstruction Loss =  0.03176264464855194\n"
          ],
          "name": "stdout"
        }
      ]
    },
    {
      "cell_type": "markdown",
      "metadata": {
        "id": "TqBCn0DlznFN"
      },
      "source": [
        "# **Part b - BLEU Score on test data**"
      ]
    },
    {
      "cell_type": "code",
      "metadata": {
        "id": "xSkSZigBzqhU"
      },
      "source": [
        "target_file = open('/content/drive/MyDrive/ML_A2_DATA/predicted_file.txt' , 'w+')\n",
        "\n",
        "for seq_index in range(len(test_encoder_input_data)):\n",
        "    # Take one sequence (part of the training set)\n",
        "    # for trying out decoding.\n",
        "    input_seq = test_encoder_input_data[seq_index : seq_index + 1]\n",
        "    decoded_sentence = decode_sequence(input_seq)\n",
        "    target_file.write(decoded_sentence)\n",
        "    target_file.write(\"\\n\")\n"
      ],
      "execution_count": 29,
      "outputs": []
    },
    {
      "cell_type": "markdown",
      "metadata": {
        "id": "92zehoLu3M_h"
      },
      "source": [
        "**Preprcessing the input file**"
      ]
    },
    {
      "cell_type": "code",
      "metadata": {
        "id": "GPk4X4AJ3MbM"
      },
      "source": [
        "file = open('/content/drive/MyDrive/ML_A2_DATA/test.txt', 'r')\n",
        "\n",
        "input_file = []\n",
        "for l in file:\n",
        "  l=l.split()\n",
        "  review = \"\"\n",
        "  for word in l:\n",
        "    if word in index_dict:\n",
        "      review += word\n",
        "    else:\n",
        "      review += \"OOV_Token\"\n",
        "    review += \" \"\n",
        "  input_file.append(review)"
      ],
      "execution_count": 26,
      "outputs": []
    },
    {
      "cell_type": "code",
      "metadata": {
        "id": "g0RAPCIC5I4S"
      },
      "source": [
        "processed_file = open('/content/drive/MyDrive/ML_A2_DATA/processed_file.txt' , 'w+')\n",
        "\n",
        "for i in input_file:\n",
        "  processed_file.write(i)\n",
        "  processed_file.write(\"\\n\")"
      ],
      "execution_count": 28,
      "outputs": []
    },
    {
      "cell_type": "code",
      "metadata": {
        "id": "gkaHVsS9-ukM"
      },
      "source": [
        "!pip install --upgrade bleu\n",
        "!pip install --upgrade git+git://github.com/zhijing-jin/bleu.git"
      ],
      "execution_count": null,
      "outputs": []
    },
    {
      "cell_type": "code",
      "metadata": {
        "colab": {
          "base_uri": "https://localhost:8080/"
        },
        "id": "c1jJf-Y4IXM7",
        "outputId": "2e329c79-7573-42d7-8f7d-e7425d41572a"
      },
      "source": [
        "from bleu import file_bleu\n",
        "file_bleu('/content/drive/MyDrive/ML_A2_DATA/processed_file.txt', '/content/drive/MyDrive/ML_A2_DATA/predicted_file.txt')"
      ],
      "execution_count": 87,
      "outputs": [
        {
          "output_type": "stream",
          "text": [
            "53.75\n"
          ],
          "name": "stdout"
        }
      ]
    },
    {
      "cell_type": "markdown",
      "metadata": {
        "id": "XbAUzH_kXheD"
      },
      "source": [
        "# **Extracting the data 1000.pos, 1000.neg, 100.pos, 100.neg**"
      ]
    },
    {
      "cell_type": "code",
      "metadata": {
        "id": "uDMqn7UUXYYx"
      },
      "source": [
        "def fetch_encoder_input_data(data):\n",
        "  import copy\n",
        "  input_text = copy.deepcopy(data)\n",
        "  output_text = copy.deepcopy(data)\n",
        "  max_length = max([len(i) for i in data])\n",
        "\n",
        "\n",
        "  for i in range(len(input_text)):\n",
        "    if max_length <= len(input_text[i]):\n",
        "      input_text[i] = input_text[i][0:max_length - 1]\n",
        "    input_text[i].append('EOS_Token')\n",
        "\n",
        "    output_text[i].insert(0,'SOS_Token')\n",
        "    if max_length <= len(output_text[i]):\n",
        "      output_text[i] = output_text[i][0:max_length - 1]\n",
        "    output_text[i].append('EOS_Token')\n",
        "\n",
        "  encoder_input_data=[]\n",
        "  \n",
        "\n",
        "  for i in range(len(input_text)):\n",
        "    temp1 = []\n",
        "    count = 0\n",
        "    for j in input_text[i]:\n",
        "      if j in top_k_dict:\n",
        "        temp1.append(vector_embedding[index_dict[j]])\n",
        "      else:\n",
        "        j='OOV_Token'\n",
        "        temp1.append(vector_embedding[index_dict['OOV_Token']])\n",
        "      count+=1\n",
        "      if j=='EOS_Token' or count >= max_length:\n",
        "        break\n",
        "    while max_length - count != 0 :\n",
        "      temp1.append(vector_embedding[index_dict['PAD_Token']])\n",
        "      count+=1\n",
        "    encoder_input_data.append(temp1)\n",
        "    \n",
        "  return encoder_input_data\n",
        "\n",
        "file = open('/content/drive/MyDrive/ML_A2_DATA/1000.neg', 'r')\n",
        "neg_1000 = []\n",
        "\n",
        "for l in file:\n",
        "  i = l.split()\n",
        "  neg_1000.append(i)\n",
        "neg_1000_encoder_data = fetch_encoder_input_data(neg_1000)\n",
        "neg_1000_encoder_data = np.array(neg_1000_encoder_data , dtype = 'float32')\n",
        "\n",
        "file = open('/content/drive/MyDrive/ML_A2_DATA/1000.pos', 'r')\n",
        "pos_1000 = []\n",
        "\n",
        "for l in file:\n",
        "  i = l.split()\n",
        "  pos_1000.append(i)\n",
        "pos_1000_encoder_data = fetch_encoder_input_data(pos_1000)\n",
        "pos_1000_encoder_data = np.array(pos_1000_encoder_data ,dtype = 'float32')\n",
        "\n",
        "file = open('/content/drive/MyDrive/ML_A2_DATA/100.neg', 'r')\n",
        "neg_100 = []\n",
        "\n",
        "for l in file:\n",
        "  i = l.split()\n",
        "  neg_100.append(i)\n",
        "neg_100_encoder_data = fetch_encoder_input_data(neg_100)\n",
        "neg_100_encoder_data = np.array(neg_100_encoder_data, dtype = 'float32')\n",
        "\n",
        "file = open('/content/drive/MyDrive/ML_A2_DATA/100.pos', 'r')\n",
        "pos_100 = []\n",
        "\n",
        "for l in file:\n",
        "  i = l.split()\n",
        "  pos_100.append(i)\n",
        "pos_100_encoder_data = fetch_encoder_input_data(pos_100)\n",
        "pos_100_encoder_data = np.array(pos_100_encoder_data, dtype = 'float32')"
      ],
      "execution_count": 53,
      "outputs": []
    },
    {
      "cell_type": "code",
      "metadata": {
        "id": "hac--v7PLfb6"
      },
      "source": [
        "pos_neg_1000_encoder_data = np.concatenate((pos_1000_encoder_data, neg_1000_encoder_data), axis=0 )\n",
        "\n",
        "pos_neg_100_encoder_data = np.concatenate((pos_100_encoder_data, neg_100_encoder_data), axis=0 )"
      ],
      "execution_count": 54,
      "outputs": []
    },
    {
      "cell_type": "code",
      "metadata": {
        "colab": {
          "base_uri": "https://localhost:8080/"
        },
        "id": "HgnqareGL8DF",
        "outputId": "71c6d4f6-8909-4873-b28a-e4f0f7833ed8"
      },
      "source": [
        "print(pos_neg_100_encoder_data.shape)"
      ],
      "execution_count": 55,
      "outputs": [
        {
          "output_type": "stream",
          "text": [
            "(200, 15, 1004)\n"
          ],
          "name": "stdout"
        }
      ]
    },
    {
      "cell_type": "code",
      "metadata": {
        "id": "tvyabZnY3fQA"
      },
      "source": [
        "def representation_data(data):\n",
        "  temp = []\n",
        "  for i in range(len(data)):\n",
        "    states = encoder_model.predict(data[i : i + 1])\n",
        "    temp.append(states[0].flatten())\n",
        "  return temp"
      ],
      "execution_count": null,
      "outputs": []
    },
    {
      "cell_type": "code",
      "metadata": {
        "id": "psCOb_c48VUC"
      },
      "source": [
        "pos_1000_data = representation_data(pos_1000_encoder_data)\n",
        "neg_1000_data = representation_data(neg_1000_encoder_data)\n",
        "\n",
        "pos_neg_1000 = pos_1000_data + neg_1000_data\n",
        "pos_neg_1000 = np.array(pos_neg_1000)\n",
        "\n",
        "pos_100_data = representation_data(pos_100_encoder_data)\n",
        "neg_100_data = representation_data(neg_100_encoder_data)\n",
        "\n",
        "pos_neg_100 = pos_100_data + neg_100_data\n",
        "pos_neg_100 = np.array(pos_neg_100)"
      ],
      "execution_count": null,
      "outputs": []
    },
    {
      "cell_type": "code",
      "metadata": {
        "id": "6H7iQZRT57mW",
        "colab": {
          "base_uri": "https://localhost:8080/"
        },
        "outputId": "5462b99b-f974-444e-fc4b-7cb8eba1ab5a"
      },
      "source": [
        "print(pos_neg_1000.shape)\n",
        "print(pos_neg_100.shape)\n"
      ],
      "execution_count": null,
      "outputs": [
        {
          "output_type": "stream",
          "text": [
            "(2000, 100)\n",
            "(200, 100)\n"
          ],
          "name": "stdout"
        }
      ]
    },
    {
      "cell_type": "code",
      "metadata": {
        "id": "t5Ys3PPi8-rf"
      },
      "source": [
        "# 1 for positive and 0 for negative\n",
        "\n",
        "y_1000 = [1]*1000 + [0]*1000\n",
        "y_1000 = np.array(y_1000)\n",
        "\n",
        "y_100 = [1]*100 + [0]*100\n",
        "y_100 = np.array(y_100)"
      ],
      "execution_count": 43,
      "outputs": []
    },
    {
      "cell_type": "code",
      "metadata": {
        "id": "ybUHo9x09rCf",
        "colab": {
          "base_uri": "https://localhost:8080/"
        },
        "outputId": "0b296460-b6bb-463d-de3c-701879ee6eae"
      },
      "source": [
        "y_1000.shape"
      ],
      "execution_count": 44,
      "outputs": [
        {
          "output_type": "execute_result",
          "data": {
            "text/plain": [
              "(2000,)"
            ]
          },
          "metadata": {
            "tags": []
          },
          "execution_count": 44
        }
      ]
    },
    {
      "cell_type": "markdown",
      "metadata": {
        "id": "k0NRrBuk-G_o"
      },
      "source": [
        "# **PART - d - dimensionality reduction and visualize it using a 2-D scatter plot long with their labels**."
      ]
    },
    {
      "cell_type": "code",
      "metadata": {
        "id": "NUJYSdGy93bX"
      },
      "source": [
        "from sklearn.preprocessing import StandardScaler\n",
        "from sklearn.decomposition import PCA\n",
        "\n",
        "pos_neg_standard = StandardScaler().fit_transform(pos_neg_1000)\n",
        "\n",
        "pca = PCA(n_components=2)\n",
        "pos_neg_pca = pca.fit_transform(pos_neg_standard)"
      ],
      "execution_count": null,
      "outputs": []
    },
    {
      "cell_type": "code",
      "metadata": {
        "id": "KGK4iLJA-vji",
        "colab": {
          "base_uri": "https://localhost:8080/",
          "height": 286
        },
        "outputId": "d448e424-0840-48b0-dacd-92c575a024c1"
      },
      "source": [
        "plt.scatter(pos_neg_pca[:,0], pos_neg_pca[:,1], c=y_1000)"
      ],
      "execution_count": null,
      "outputs": [
        {
          "output_type": "execute_result",
          "data": {
            "text/plain": [
              "<matplotlib.collections.PathCollection at 0x7fd873083810>"
            ]
          },
          "metadata": {
            "tags": []
          },
          "execution_count": 27
        },
        {
          "output_type": "display_data",
          "data": {
            "image/png": "[encoded data removed]",
            "text/plain": [
              "<Figure size 432x288 with 1 Axes>"
            ]
          },
          "metadata": {
            "tags": [],
            "needs_background": "light"
          }
        }
      ]
    },
    {
      "cell_type": "markdown",
      "metadata": {
        "id": "uaA9B3wq_Bqr"
      },
      "source": [
        "# **PART - e - logistic regression classifier**"
      ]
    },
    {
      "cell_type": "code",
      "metadata": {
        "id": "C3Uded4C_FAt",
        "colab": {
          "base_uri": "https://localhost:8080/"
        },
        "outputId": "dade9199-12f2-496d-802b-23c94ce4b61d"
      },
      "source": [
        "from sklearn.linear_model import LogisticRegression\n",
        "lr = LogisticRegression()\n",
        "lr.fit(pos_neg_1000,y_1000)"
      ],
      "execution_count": null,
      "outputs": [
        {
          "output_type": "execute_result",
          "data": {
            "text/plain": [
              "LogisticRegression(C=1.0, class_weight=None, dual=False, fit_intercept=True,\n",
              "                   intercept_scaling=1, l1_ratio=None, max_iter=100,\n",
              "                   multi_class='auto', n_jobs=None, penalty='l2',\n",
              "                   random_state=None, solver='lbfgs', tol=0.0001, verbose=0,\n",
              "                   warm_start=False)"
            ]
          },
          "metadata": {
            "tags": []
          },
          "execution_count": 28
        }
      ]
    },
    {
      "cell_type": "code",
      "metadata": {
        "id": "hL8AgW-rAGuh"
      },
      "source": [
        "y_pred=lr.predict(pos_neg_100)"
      ],
      "execution_count": null,
      "outputs": []
    },
    {
      "cell_type": "code",
      "metadata": {
        "id": "q5oX7VzBBHXn",
        "colab": {
          "base_uri": "https://localhost:8080/"
        },
        "outputId": "c782cd66-5187-44f4-a901-1a4fbb16fab7"
      },
      "source": [
        "accuracy = 0.0\n",
        "\n",
        "for i in range(len(y_pred)):\n",
        "  if y_pred[i] == y_100[i]:\n",
        "    accuracy += 1.0\n",
        "\n",
        "print(\"Accuracy = \", accuracy/ len(y_pred))"
      ],
      "execution_count": null,
      "outputs": [
        {
          "output_type": "stream",
          "text": [
            "Accuracy =  0.69\n"
          ],
          "name": "stdout"
        }
      ]
    },
    {
      "cell_type": "markdown",
      "metadata": {
        "id": "t0kz7MF9IT5C"
      },
      "source": [
        "# **Part - f - LSTM based text classifier**"
      ]
    },
    {
      "cell_type": "code",
      "metadata": {
        "id": "0YsPyVLz_Q1E"
      },
      "source": [
        "import tensorflow as tf\n",
        "from tensorflow.keras import datasets, layers, models\n",
        "from tensorflow.keras.models import Sequential\n",
        "from tensorflow.keras.layers import Dense, Dropout, Flatten, Conv2D, MaxPooling2D\n",
        "from tensorflow.keras.losses import sparse_categorical_crossentropy\n",
        "from tensorflow.keras.optimizers import Adam\n",
        "\n",
        "LSTM_classifier = Sequential()\n",
        "\n",
        "LSTM_classifier.add(Bidirectional(LSTM(100)))\n",
        "LSTM_classifier.add(Flatten())\n",
        "LSTM_classifier.add(Dense(100, activation = \"relu\"))\n",
        "LSTM_classifier.add(Dense(2, activation = \"softmax\"))"
      ],
      "execution_count": 83,
      "outputs": []
    },
    {
      "cell_type": "code",
      "metadata": {
        "id": "YxFjiHBAKVec"
      },
      "source": [
        "LSTM_classifier.compile(\n",
        "    optimizer=Adam(), loss=sparse_categorical_crossentropy, metrics=[\"accuracy\"]\n",
        ")\n",
        "LSTM_classifier.fit(pos_neg_1000_encoder_data, y_1000,\n",
        "          batch_size=64,\n",
        "          epochs=10,\n",
        "          validation_split=0.2,verbose = 1)"
      ],
      "execution_count": null,
      "outputs": []
    },
    {
      "cell_type": "code",
      "metadata": {
        "colab": {
          "base_uri": "https://localhost:8080/"
        },
        "id": "5N5cIqY3QfVe",
        "outputId": "f0ea5379-f03a-4a88-f503-dbe3c4c0113a"
      },
      "source": [
        "accuracy = LSTM_classifier.evaluate(pos_neg_100_encoder_data , y_100)\n",
        "print(\"Accuracy = \" , accuracy[1])"
      ],
      "execution_count": 86,
      "outputs": [
        {
          "output_type": "stream",
          "text": [
            "7/7 [==============================] - 0s 7ms/step - loss: 0.3723 - accuracy: 0.8700\n",
            "Accuracy =  0.8700000047683716\n"
          ],
          "name": "stdout"
        }
      ]
    },
    {
      "cell_type": "code",
      "metadata": {
        "colab": {
          "base_uri": "https://localhost:8080/"
        },
        "id": "m9D1Sz7UQPaj",
        "outputId": "d789e95c-d3ad-4041-b4fe-92e9c31faa2f"
      },
      "source": [
        "LSTM_classifier.summary()"
      ],
      "execution_count": 88,
      "outputs": [
        {
          "output_type": "stream",
          "text": [
            "Model: \"sequential_13\"\n",
            "_________________________________________________________________\n",
            "Layer (type)                 Output Shape              Param #   \n",
            "=================================================================\n",
            "module_wrapper_13 (ModuleWra (None, 200)               884000    \n",
            "_________________________________________________________________\n",
            "flatten_8 (Flatten)          (None, 200)               0         \n",
            "_________________________________________________________________\n",
            "dense_24 (Dense)             (None, 100)               20100     \n",
            "_________________________________________________________________\n",
            "dense_25 (Dense)             (None, 2)                 202       \n",
            "=================================================================\n",
            "Total params: 904,302\n",
            "Trainable params: 904,302\n",
            "Non-trainable params: 0\n",
            "_________________________________________________________________\n"
          ],
          "name": "stdout"
        }
      ]
    },
    {
      "cell_type": "code",
      "metadata": {
        "id": "cbSTbCvvUoA7"
      },
      "source": [
        ""
      ],
      "execution_count": null,
      "outputs": []
    }
  ]
}